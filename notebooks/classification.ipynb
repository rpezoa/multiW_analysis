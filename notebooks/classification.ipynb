{
 "cells": [
  {
   "cell_type": "code",
   "execution_count": 1,
   "metadata": {},
   "outputs": [],
   "source": [
    "import pandas as pd\n",
    "from glob import glob\n",
    "import numpy as np\n",
    "\n",
    "import sys\n",
    "sys.path.append(\"../scripts/\") # go to parent dir\n",
    "\n",
    "from sklearn.model_selection import train_test_split\n",
    "from sklearn.metrics import classification_report\n",
    "\n",
    "from read_data import fromcsv2df, distribution, filtering, distribution_weights\n",
    "from metrics import significance, significance_with_weight, prediction, significance_true_values\n",
    "from plots import plot_scores_v2, plot_scores\n",
    "from classification import classification_RF_with_tunning\n"
   ]
  },
  {
   "cell_type": "code",
   "execution_count": 8,
   "metadata": {},
   "outputs": [],
   "source": [
    "source_path = \"../processed_data/\"\n",
    "\n",
    "def run(signal_file,signal, category=\"mumuOS\"):\n",
    "    new_l = []\n",
    "    # read CSV file containing a particular signal plus all the background\n",
    "    df0 = fromcsv2df(signal_file) \n",
    "    print(\"Original variables\", df0.columns)\n",
    "    print(\"Num. rows (events):\", df0.shape[0])\n",
    "    print(\"Num. variables:\", df0.shape[1])\n",
    "    \n",
    "    # getting the event weights \n",
    "    weights0 = df0['weight_column']\n",
    "    \n",
    "    # selecting features (by expert decision) plus label\n",
    "    df = df0[['bveto', 'mt2t','nfj_w','hthad_fj','mt', 'met', 'htlep','label']]\n",
    "    #display(df0)\n",
    "    \n",
    "    # data and label matrices\n",
    "    y = df[\"label\"]\n",
    "    X = df.drop(columns=[\"label\"])\n",
    "    print(\"-------------\")\n",
    "    X,y, weights = filtering(df0,X,y,weights0, category)\n",
    "    print(\"::: Filtered data :::\")\n",
    "    print(\"Num rows:\", X.shape[0])\n",
    "    print(\"Num variables:\", X.shape[1])\n",
    "    #display(X.head())\n",
    "    \n",
    "    # only features\n",
    "    cols = ['bveto', 'mt2t','nfj_w','hthad_fj','mt', 'met', 'htlep']\n",
    "    \n",
    "    # Normalization\n",
    "    X= (X-X.min())/(X.max()-X.min())\n",
    "    X_temp = X.join(weights)\n",
    "    \n",
    "    \n",
    "    # training, validation, and testing data\n",
    "    X_train, X_test, y_train, y_test   = train_test_split(X_temp, y, test_size=0.2,random_state=1)\n",
    "    #print(\"X_train.head()\")\n",
    "    #display(X_train.head())\n",
    "    #print(\"X_test.head()\")\n",
    "    #display(X_test.head())\n",
    "    \n",
    "    train_w = X_train[\"weight_column\"]\n",
    "    test_w = X_test[\"weight_column\"]\n",
    "    \n",
    "    X_test =X_test[cols]\n",
    "    X_train =X_train[cols]\n",
    "\n",
    "    # show distributions per classes\n",
    "    dict_labels = {\"y_train\":y_train,\"y_test\": y_test}\n",
    "    dict_weights = {\"y_train\": train_w, \"y_test\": test_w}\n",
    "    \n",
    "    \n",
    "    \n",
    "    df_distro_weights = distribution_weights(dict_labels, dict_weights)\n",
    "    display(df_distro_weights)\n",
    "    \n",
    "    new_dict={}\n",
    "    new_dict[\"signal\"] = signal\n",
    "    b_ = df_distro_weights[\"#background\"].sum()\n",
    "    new_dict[\"#back\"] = b_\n",
    "    s_ = df_distro_weights[\"#signal\"].sum()\n",
    "    new_dict[\"#sig\"] = s_\n",
    "    new_dict[\"%b\"] = 100* (b_/(s_+b_))\n",
    "    new_dict[\"%s\"] = 100* (s_/(s_+b_))\n",
    "    new_dict[\"tot. events\"] = s_+ b_\n",
    "    \n",
    "    w_s = df_distro_weights[\"w_s\"].sum()\n",
    "    w_b = df_distro_weights[\"w_b\"].sum()\n",
    "    new_dict[\"w_s\"] = w_s\n",
    "    new_dict[\"w_b\"] = w_b\n",
    "    new_dict[\"%w_s\"] = 100*(w_s/(w_s+w_b))\n",
    "    new_dict[\"%w_b\"] = 100*(w_b/(w_s+w_b))\n",
    "    \n",
    "    new_l.append(new_dict)\n",
    "    SIGNIF = significance_true_values(y.values,y.values,weights.values)\n",
    "    new_dict[\"SIGNIF_TRUE\"] = SIGNIF\n",
    "    \n",
    "    \n",
    "    # classification model using RandomForest\n",
    "    clf = classification_RF_with_tunning(X_train, y_train,train_w)\n",
    "    \n",
    "    print(\"\\n::: TRAIN PREDICTION :::\\n\")\n",
    "    y_pred_train = clf.predict(X_train)\n",
    "    y_pred_score_train = clf.predict_proba(X_train)\n",
    "    metrics_train = prediction(y_train,  y_pred_score_train[:,1], title= \"train\", weights= train_w)\n",
    "    \n",
    "    print(\"\\n::: TEST PREDICTION :::\\n\")\n",
    "    y_pred=clf.predict(X_test)\n",
    "    y_pred_score = clf.predict_proba(X_test) #1 - clf.predict_proba(X_test)[:,1] #!!!!!!!\n",
    "    metrics = prediction(y_test, y_pred_score[:,1],title=\"testing\",weights=test_w)\n",
    "    \n",
    "    \n",
    "    mask_sig, mask_back, mask_sig_train, mask_back_train = plot_scores(y_pred_score[:,1], y_test,y_pred_score_train[:,1], y_train)\n",
    "    plot_scores_v2(y_pred_score[:,1], mask_sig,mask_back,y_pred_score_train[:,1], mask_sig_train, mask_back_train, metrics, metrics_train, category,signal)\n",
    "\n",
    "    \n",
    "    print(\"classification_report TEST ::::\")\n",
    "    cr_test_w = classification_report(y_test, y_pred, sample_weight=test_w)\n",
    "    cr_test = classification_report(y_test, y_pred)\n",
    "    print(cr_test_w)\n",
    "    print(cr_test)\n",
    "    \n",
    "\n",
    "    print(\"classification_report TRAIN ::::\")\n",
    "    cr_train_w =classification_report(y_train, y_pred_train, sample_weight=train_w)\n",
    "    cr_train =classification_report(y_train, y_pred_train)\n",
    "    print(cr_train_w)\n",
    "    print(cr_train)\n",
    "    \n",
    "\n",
    "    \n",
    "    return metrics, mask_sig, mask_back, y_pred, y_test, y_pred_score, y_pred_train, y_pred_score_train,mask_sig_train, mask_back_train, new_l\n",
    "    "
   ]
  },
  {
   "cell_type": "code",
   "execution_count": 9,
   "metadata": {
    "scrolled": false
   },
   "outputs": [
    {
     "name": "stdout",
     "output_type": "stream",
     "text": [
      "************************************************************\n",
      "************************************************************\n",
      "************************************************************\n",
      "File: all_signal_m800_np_bg.csv\n",
      "m800_np\n",
      "Original variables Index(['mumuSS', 'mumuOS', 'emu', 'ee', 'mll', 'drll', 'drjl1', 'drjl2',\n",
      "       'drlmet', 'dphi_ll', 'dphi_llmet', 'dphi_fj12', 'dphi_fj13',\n",
      "       'dphi_fj23', 'met', 'mt', 'mt2t', 'bveto', 'hthad_rj', 'hthad_fj',\n",
      "       'htlep', 'fj1mass', 'fj2mass', 'fj1pt', 'fj2pt', 'nel', 'nmu', 'nj',\n",
      "       'nfj', 'nfj_w', 'label', 'weight_column', 'sample'],\n",
      "      dtype='object')\n",
      "Num. rows (events): 308113\n",
      "Num. variables: 33\n",
      "-------------\n",
      "Category: mumuSS\n",
      "::: Filtered data :::\n",
      "Num rows: 4094\n",
      "Num variables: 7\n",
      "::::::::::s 11.996400000000001\n",
      "::::::::::b 1283.917915620434\n",
      "::::::::::s 3.2292000000000005\n",
      "::::::::::b 295.81345898313424\n"
     ]
    },
    {
     "data": {
      "text/html": [
       "<div>\n",
       "<style scoped>\n",
       "    .dataframe tbody tr th:only-of-type {\n",
       "        vertical-align: middle;\n",
       "    }\n",
       "\n",
       "    .dataframe tbody tr th {\n",
       "        vertical-align: top;\n",
       "    }\n",
       "\n",
       "    .dataframe thead th {\n",
       "        text-align: right;\n",
       "    }\n",
       "</style>\n",
       "<table border=\"1\" class=\"dataframe\">\n",
       "  <thead>\n",
       "    <tr style=\"text-align: right;\">\n",
       "      <th></th>\n",
       "      <th>data</th>\n",
       "      <th>#background</th>\n",
       "      <th>#signal</th>\n",
       "      <th>% b</th>\n",
       "      <th>% s</th>\n",
       "      <th>total</th>\n",
       "      <th>w_s</th>\n",
       "      <th>w_b</th>\n",
       "      <th>%w_s</th>\n",
       "      <th>%w_b</th>\n",
       "      <th>w_total</th>\n",
       "      <th>SIGNIF_WEIGHT</th>\n",
       "      <th>SIGNIF</th>\n",
       "      <th>SIGNIF_TRUE</th>\n",
       "    </tr>\n",
       "  </thead>\n",
       "  <tbody>\n",
       "    <tr>\n",
       "      <th>0</th>\n",
       "      <td>train</td>\n",
       "      <td>1737</td>\n",
       "      <td>1538</td>\n",
       "      <td>53.038168</td>\n",
       "      <td>46.961832</td>\n",
       "      <td>3275</td>\n",
       "      <td>11.9964</td>\n",
       "      <td>1283.917916</td>\n",
       "      <td>0.925709</td>\n",
       "      <td>99.074291</td>\n",
       "      <td>1295.914316</td>\n",
       "      <td>0.334278</td>\n",
       "      <td>32.828911</td>\n",
       "      <td>0.334278</td>\n",
       "    </tr>\n",
       "    <tr>\n",
       "      <th>1</th>\n",
       "      <td>test</td>\n",
       "      <td>405</td>\n",
       "      <td>414</td>\n",
       "      <td>49.450549</td>\n",
       "      <td>50.549451</td>\n",
       "      <td>819</td>\n",
       "      <td>3.2292</td>\n",
       "      <td>295.813459</td>\n",
       "      <td>1.079846</td>\n",
       "      <td>98.920154</td>\n",
       "      <td>299.042659</td>\n",
       "      <td>0.187413</td>\n",
       "      <td>18.040918</td>\n",
       "      <td>0.187413</td>\n",
       "    </tr>\n",
       "  </tbody>\n",
       "</table>\n",
       "</div>"
      ],
      "text/plain": [
       "    data  #background  #signal        % b        % s  total      w_s  \\\n",
       "0  train         1737     1538  53.038168  46.961832   3275  11.9964   \n",
       "1   test          405      414  49.450549  50.549451    819   3.2292   \n",
       "\n",
       "           w_b      %w_s       %w_b      w_total  SIGNIF_WEIGHT     SIGNIF  \\\n",
       "0  1283.917916  0.925709  99.074291  1295.914316       0.334278  32.828911   \n",
       "1   295.813459  1.079846  98.920154   299.042659       0.187413  18.040918   \n",
       "\n",
       "   SIGNIF_TRUE  \n",
       "0     0.334278  \n",
       "1     0.187413  "
      ]
     },
     "metadata": {},
     "output_type": "display_data"
    },
    {
     "name": "stdout",
     "output_type": "stream",
     "text": [
      "::::::::::s 15.2256\n",
      "::::::::::b 1579.7313746035684\n",
      "Running classification model ...\n",
      "Fitting 3 folds for each of 10 candidates, totalling 30 fits\n"
     ]
    },
    {
     "name": "stderr",
     "output_type": "stream",
     "text": [
      "[Parallel(n_jobs=-1)]: Using backend LokyBackend with 4 concurrent workers.\n",
      "[Parallel(n_jobs=-1)]: Done  30 out of  30 | elapsed:    1.7s finished\n"
     ]
    },
    {
     "name": "stdout",
     "output_type": "stream",
     "text": [
      "clf.classes_ [0 1]\n",
      "1.9910080432891846\n",
      "\n",
      "::: TRAIN PREDICTION :::\n",
      "\n",
      "::::::::::s 11.9808\n",
      "::::::::::b 1283.2798027632912\n",
      "Significance ::::: 0.3339269448368946\n",
      "yes 0.3339269448368946\n",
      "::::::::::s 11.957400000000002\n",
      "::::::::::b 1283.8133099061483\n",
      "Significance ::::: 0.33320670811546155\n",
      "::::::::::s 11.895000000000001\n",
      "::::::::::b 1283.917915620434\n",
      "Significance ::::: 0.33145706708302464\n",
      "::::::::::s 11.7702\n",
      "::::::::::b 1283.917915620434\n",
      "Significance ::::: 0.3279847657690965\n",
      "::::::::::s 11.528400000000001\n",
      "::::::::::b 1283.917915620434\n",
      "Significance ::::: 0.32125686446545554\n",
      "::::::::::s 11.2632\n",
      "::::::::::b 1283.917915620434\n",
      "Significance ::::: 0.3138773942423061\n",
      "::::::::::s 10.8108\n",
      "::::::::::b 1283.917915620434\n",
      "Significance ::::: 0.30128772280639554\n",
      "::::::::::s 9.945\n",
      "::::::::::b 1283.917915620434\n",
      "Significance ::::: 0.27718960433152445\n",
      "::::::::::s 8.736\n",
      "::::::::::b 1283.917915620434\n",
      "Significance ::::: 0.2435300772567569\n",
      "::::::::::s 7.027800000000001\n",
      "::::::::::b 1283.917915620434\n",
      "Significance ::::: 0.19595451944925446\n",
      "::::::::::s 4.0716\n",
      "::::::::::b 1283.917915620434\n",
      "Significance ::::: 0.11357092869151768\n",
      "Best threshold::: 0.05 with SIGNIFICANCE= 0.3339269448368946\n",
      "Predicting with threshold: 0.05\n",
      "signal:  1550 background: 1725\n",
      "SIGNIFICANCE WITH WEIGHTS 0.35168123173896315\n"
     ]
    },
    {
     "data": {
      "image/png": "[encoded data removed]",
      "text/plain": [
       "<Figure size 432x288 with 1 Axes>"
      ]
     },
     "metadata": {
      "needs_background": "light"
     },
     "output_type": "display_data"
    },
    {
     "data": {
      "image/png": "[encoded data removed]",
      "text/plain": [
       "<Figure size 432x288 with 1 Axes>"
      ]
     },
     "metadata": {
      "needs_background": "light"
     },
     "output_type": "display_data"
    },
    {
     "name": "stdout",
     "output_type": "stream",
     "text": [
      "f1: 0.99 prec: 0.99 rec: 1.0 acc: 1.0 roc_auc 0.9999633165712523\n",
      "[[1723   14]\n",
      " [   2 1536]]\n",
      "\n",
      "::: TEST PREDICTION :::\n",
      "\n",
      "::::::::::s 3.0888\n",
      "::::::::::b 138.34322085055854\n",
      "Significance ::::: 0.2616415128383385\n",
      "yes 0.2616415128383385\n",
      "::::::::::s 2.9094\n",
      "::::::::::b 183.20478779426844\n",
      "Significance ::::: 0.21438361280879079\n",
      "::::::::::s 2.7768\n",
      "::::::::::b 208.91994242414995\n",
      "Significance ::::: 0.1916888426212873\n",
      "::::::::::s 2.6442\n",
      "::::::::::b 227.90512497428324\n",
      "Significance ::::: 0.1748158027940194\n",
      "::::::::::s 2.379\n",
      "::::::::::b 239.38063492571072\n",
      "Significance ::::: 0.15350868755245867\n",
      "::::::::::s 2.184\n",
      "::::::::::b 252.8326777439956\n",
      "Significance ::::: 0.13715529419931338\n",
      "::::::::::s 1.9422000000000001\n",
      "::::::::::b 266.82201197142285\n",
      "Significance ::::: 0.11875653671222759\n",
      "::::::::::s 1.6614000000000002\n",
      "::::::::::b 273.6785590851365\n",
      "Significance ::::: 0.10032641615201268\n",
      "::::::::::s 1.248\n",
      "::::::::::b 279.52866619885015\n",
      "Significance ::::: 0.07458967696885524\n",
      "::::::::::s 0.7956000000000002\n",
      "::::::::::b 290.4058947217062\n",
      "Significance ::::: 0.046665287053934065\n",
      "::::::::::s 0.3665999999999998\n",
      "::::::::::b 294.05675327856306\n",
      "Significance ::::: 0.021374043070835996\n",
      "Best threshold::: 0.05 with SIGNIFICANCE= 0.2616415128383385\n",
      "Predicting with threshold: 0.05\n",
      "signal:  618 background: 201\n",
      "SIGNIFICANCE WITH WEIGHTS 11.802899759314025\n"
     ]
    },
    {
     "data": {
      "image/png": "[encoded data removed]",
      "text/plain": [
       "<Figure size 432x288 with 1 Axes>"
      ]
     },
     "metadata": {
      "needs_background": "light"
     },
     "output_type": "display_data"
    },
    {
     "data": {
      "image/png": "[encoded data removed]",
      "text/plain": [
       "<Figure size 432x288 with 1 Axes>"
      ]
     },
     "metadata": {
      "needs_background": "light"
     },
     "output_type": "display_data"
    },
    {
     "name": "stdout",
     "output_type": "stream",
     "text": [
      "f1: 0.77 prec: 0.64 rec: 0.96 acc: 0.71 roc_auc 0.8586628496451364\n",
      "[[183 222]\n",
      " [ 18 396]]\n",
      "[189.  51.  33.  12.  24.  14.  12.  20.   9.   9.   3.  15.   7.   5.\n",
      "   2.] \n",
      " [18. 18. 11. 17. 12. 32. 10. 33. 14. 34. 27. 56. 30. 55. 47.]\n"
     ]
    },
    {
     "data": {
      "image/png": "[encoded data removed]",
      "text/plain": [
       "<Figure size 432x288 with 1 Axes>"
      ]
     },
     "metadata": {
      "needs_background": "light"
     },
     "output_type": "display_data"
    },
    {
     "data": {
      "image/png": "[encoded data removed]",
      "text/plain": [
       "<Figure size 432x288 with 1 Axes>"
      ]
     },
     "metadata": {
      "needs_background": "light"
     },
     "output_type": "display_data"
    },
    {
     "name": "stdout",
     "output_type": "stream",
     "text": [
      "classification_report TEST ::::\n",
      "              precision    recall  f1-score   support\n",
      "\n",
      "           0       1.00      0.85      0.92 295.8134589831353\n",
      "           1       0.05      0.68      0.09 3.2292000000000094\n",
      "\n",
      "    accuracy                           0.85 299.0426589831353\n",
      "   macro avg       0.52      0.77      0.51 299.0426589831353\n",
      "weighted avg       0.99      0.85      0.91 299.0426589831353\n",
      "\n",
      "              precision    recall  f1-score   support\n",
      "\n",
      "           0       0.72      0.85      0.78       405\n",
      "           1       0.82      0.68      0.74       414\n",
      "\n",
      "    accuracy                           0.76       819\n",
      "   macro avg       0.77      0.76      0.76       819\n",
      "weighted avg       0.77      0.76      0.76       819\n",
      "\n",
      "classification_report TRAIN ::::\n",
      "              precision    recall  f1-score   support\n",
      "\n",
      "           0       1.00      1.00      1.00 1283.9179156204448\n",
      "           1       1.00      0.94      0.97 11.996399999999587\n",
      "\n",
      "    accuracy                           1.00 1295.9143156204443\n",
      "   macro avg       1.00      0.97      0.98 1295.9143156204443\n",
      "weighted avg       1.00      1.00      1.00 1295.9143156204443\n",
      "\n",
      "              precision    recall  f1-score   support\n",
      "\n",
      "           0       0.95      1.00      0.97      1737\n",
      "           1       1.00      0.94      0.97      1538\n",
      "\n",
      "    accuracy                           0.97      3275\n",
      "   macro avg       0.97      0.97      0.97      3275\n",
      "weighted avg       0.97      0.97      0.97      3275\n",
      "\n",
      "********************\n"
     ]
    }
   ],
   "source": [
    "data_files = glob(f\"{source_path}/all_signal*.csv\")\n",
    "l=[]\n",
    "\n",
    "for i in data_files[0:1]:\n",
    "    print(\"*\"*60)\n",
    "    print(\"*\"*60)\n",
    "    print(\"*\"*60)\n",
    "    print(\"File: \"+ i.split(\"/\")[-1])\n",
    "    signal = i.split(\"/\")[-1].split(\"_\")[-3] + \"_\" + i.split(\"/\")[-1].split(\"_\")[-2] \n",
    "    print(signal)\n",
    "    metrics, mask_sig, mask_back, y_pred, y_test, y_pred_score, y_pred_train, y_pred_score_train,mask_sig_train, mask_back_train, new_l = run(i,signal, category=\"mumuSS\")\n",
    "    metrics[\"signal\"] = signal\n",
    "    l.append(metrics)\n",
    "    print(\"*\"*20)\n",
    "    \n",
    "df_metrics = pd.DataFrame(l)\n",
    "df_new = pd.DataFrame(new_l)"
   ]
  },
  {
   "cell_type": "code",
   "execution_count": 10,
   "metadata": {},
   "outputs": [
    {
     "data": {
      "text/html": [
       "<div>\n",
       "<style scoped>\n",
       "    .dataframe tbody tr th:only-of-type {\n",
       "        vertical-align: middle;\n",
       "    }\n",
       "\n",
       "    .dataframe tbody tr th {\n",
       "        vertical-align: top;\n",
       "    }\n",
       "\n",
       "    .dataframe thead th {\n",
       "        text-align: right;\n",
       "    }\n",
       "</style>\n",
       "<table border=\"1\" class=\"dataframe\">\n",
       "  <thead>\n",
       "    <tr style=\"text-align: right;\">\n",
       "      <th></th>\n",
       "      <th>f1</th>\n",
       "      <th>prec</th>\n",
       "      <th>rec</th>\n",
       "      <th>acc</th>\n",
       "      <th>cm</th>\n",
       "      <th>roc_auc</th>\n",
       "      <th>sig</th>\n",
       "      <th>threshold</th>\n",
       "      <th>signal</th>\n",
       "    </tr>\n",
       "  </thead>\n",
       "  <tbody>\n",
       "    <tr>\n",
       "      <th>0</th>\n",
       "      <td>0.77</td>\n",
       "      <td>0.64</td>\n",
       "      <td>0.96</td>\n",
       "      <td>0.71</td>\n",
       "      <td>[[183, 222], [18, 396]]</td>\n",
       "      <td>0.858663</td>\n",
       "      <td>11.8029</td>\n",
       "      <td>0.05</td>\n",
       "      <td>m800_np</td>\n",
       "    </tr>\n",
       "  </tbody>\n",
       "</table>\n",
       "</div>"
      ],
      "text/plain": [
       "     f1  prec   rec   acc                       cm   roc_auc      sig  \\\n",
       "0  0.77  0.64  0.96  0.71  [[183, 222], [18, 396]]  0.858663  11.8029   \n",
       "\n",
       "   threshold   signal  \n",
       "0       0.05  m800_np  "
      ]
     },
     "execution_count": 10,
     "metadata": {},
     "output_type": "execute_result"
    }
   ],
   "source": [
    "df_metrics"
   ]
  },
  {
   "cell_type": "code",
   "execution_count": 5,
   "metadata": {},
   "outputs": [
    {
     "data": {
      "text/html": [
       "<div>\n",
       "<style scoped>\n",
       "    .dataframe tbody tr th:only-of-type {\n",
       "        vertical-align: middle;\n",
       "    }\n",
       "\n",
       "    .dataframe tbody tr th {\n",
       "        vertical-align: top;\n",
       "    }\n",
       "\n",
       "    .dataframe thead th {\n",
       "        text-align: right;\n",
       "    }\n",
       "</style>\n",
       "<table border=\"1\" class=\"dataframe\">\n",
       "  <thead>\n",
       "    <tr style=\"text-align: right;\">\n",
       "      <th></th>\n",
       "      <th>signal</th>\n",
       "      <th>#back</th>\n",
       "      <th>#sig</th>\n",
       "      <th>%b</th>\n",
       "      <th>%s</th>\n",
       "      <th>tot. events</th>\n",
       "      <th>w_s</th>\n",
       "      <th>w_b</th>\n",
       "      <th>%w_s</th>\n",
       "      <th>%w_b</th>\n",
       "      <th>SIGNIF_TRUE</th>\n",
       "    </tr>\n",
       "  </thead>\n",
       "  <tbody>\n",
       "    <tr>\n",
       "      <th>0</th>\n",
       "      <td>m800_np</td>\n",
       "      <td>2142</td>\n",
       "      <td>1952</td>\n",
       "      <td>52.320469</td>\n",
       "      <td>47.679531</td>\n",
       "      <td>4094</td>\n",
       "      <td>15.2256</td>\n",
       "      <td>1579.731375</td>\n",
       "      <td>0.954609</td>\n",
       "      <td>99.045391</td>\n",
       "      <td>0.382461</td>\n",
       "    </tr>\n",
       "  </tbody>\n",
       "</table>\n",
       "</div>"
      ],
      "text/plain": [
       "    signal  #back  #sig         %b         %s  tot. events      w_s  \\\n",
       "0  m800_np   2142  1952  52.320469  47.679531         4094  15.2256   \n",
       "\n",
       "           w_b      %w_s       %w_b  SIGNIF_TRUE  \n",
       "0  1579.731375  0.954609  99.045391     0.382461  "
      ]
     },
     "execution_count": 5,
     "metadata": {},
     "output_type": "execute_result"
    }
   ],
   "source": [
    "df_new"
   ]
  },
  {
   "cell_type": "code",
   "execution_count": null,
   "metadata": {},
   "outputs": [],
   "source": []
  },
  {
   "cell_type": "code",
   "execution_count": null,
   "metadata": {},
   "outputs": [],
   "source": []
  }
 ],
 "metadata": {
  "kernelspec": {
   "display_name": "Python 3",
   "language": "python",
   "name": "python3"
  },
  "language_info": {
   "codemirror_mode": {
    "name": "ipython",
    "version": 3
   },
   "file_extension": ".py",
   "mimetype": "text/x-python",
   "name": "python",
   "nbconvert_exporter": "python",
   "pygments_lexer": "ipython3",
   "version": "3.7.8"
  }
 },
 "nbformat": 4,
 "nbformat_minor": 4
}
