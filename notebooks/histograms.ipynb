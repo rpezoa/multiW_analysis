{
 "cells": [
  {
   "cell_type": "code",
   "execution_count": 7,
   "metadata": {},
   "outputs": [],
   "source": [
    "import sys\n",
    "sys.path.append(\"../scripts/\")\n",
    "\n",
    "import pandas as pd\n",
    "from glob import glob\n",
    "from matplotlib import pyplot as plt\n",
    "\n",
    "import numpy as np\n",
    "\n",
    "from read_data import fromcsv2df, distribution"
   ]
  },
  {
   "cell_type": "code",
   "execution_count": 14,
   "metadata": {},
   "outputs": [],
   "source": [
    "def get_histogram(feature_name, h_min, h_max,\n",
    "                 stack_list, weights_list, names, signal_values, signal_weights, signal_name, dens=False):\n",
    "    \n",
    "    fig = plt.figure(figsize=(10, 10))\n",
    "    grid = plt.GridSpec(5, 2, hspace=0.25)\n",
    "    his = fig.add_subplot(grid[:-1, :])\n",
    "    \n",
    "    plt.title(\"{}\".format(feature_name))   \n",
    "    plt.grid()\n",
    "    \n",
    "    \n",
    "    n_signal, bin_edges_signal,patches_signal = plt.hist(signal_values, range=(hmin,hmax), \n",
    "             weights = signal_weights, bins=30,label=signal_name,fill=False,color=\"red\", density=dens)\n",
    "    #bin_centres = (bin_edges_back[:-1] + bin_edges_back[1:])/2.\n",
    "    \n",
    "    n_back, bin_edges_back, patches_back = plt.hist(stack_list, range=(hmin,hmax), \n",
    "                                                    weights = weights_list, bins=30,\n",
    "             stacked=True,histtype =  'barstacked',label=names, density=dens)\n",
    "    \n",
    "    back_array = np.array(n_back)\n",
    "    \n",
    "    sum_back_per_bin = back_array.sum(axis=0)\n",
    "    \n",
    "    \n",
    "    \n",
    "    \n",
    "\n",
    "    print(\"BACK\", sum_back_per_bin)\n",
    "   \n",
    "    \n",
    "    plt.legend(loc=\"upper right\")\n",
    "    plt.ylabel('Events')\n",
    "    \n",
    "    \n",
    "    mask_0_back = sum_back_per_bin != 0\n",
    "    \n",
    "\n",
    "\n",
    "    if dens:\n",
    "        if not os.path.exists('../histograms/density_true/'):\n",
    "            os.makedirs('../histograms/density_true/')\n",
    "        plotname = \"../histograms/density_true/\" + signal_name+ \"_\" +feature_name +\".png\"\n",
    "    else:\n",
    "        if not os.path.exists('../histograms/density_false/'):\n",
    "            os.makedirs('../histograms/density_false/')\n",
    "        plotname = \"../histograms/density_false/\" + signal_name+ \"_\" +feature_name +\".png\"\n",
    "    plt.savefig(plotname)  \n",
    "    plt.show()"
   ]
  },
  {
   "cell_type": "code",
   "execution_count": 15,
   "metadata": {},
   "outputs": [],
   "source": [
    "def get_stacks(d,feature):\n",
    "    stack_list = []\n",
    "    weights_list = []\n",
    "    names = []\n",
    "    for samp, number in d.items():\n",
    "        df_per_samp = df0[df0[\"sample\"] == samp] #dataframe containing \n",
    "                                                 #only one kind of sample\n",
    "        print(samp, number, df_per_samp[\"weight_column\"].values.sum())\n",
    "        stack_list.append(df_per_samp[feature].values)\n",
    "        weights_list.append(df_per_samp[\"weight_column\"].values)\n",
    "        names.append(samp)\n",
    "    return stack_list, weights_list, names"
   ]
  },
  {
   "cell_type": "code",
   "execution_count": 16,
   "metadata": {
    "scrolled": false
   },
   "outputs": [
    {
     "name": "stdout",
     "output_type": "stream",
     "text": [
      "all_signal_m800_np_bg.csv m800_np\n",
      "Index(['mumuSS', 'mumuOS', 'emu', 'ee', 'mll', 'drll', 'drjl1', 'drjl2',\n",
      "       'drlmet', 'dphi_ll', 'dphi_llmet', 'dphi_fj12', 'dphi_fj13',\n",
      "       'dphi_fj23', 'met', 'mt', 'mt2t', 'bveto', 'hthad_rj', 'hthad_fj',\n",
      "       'htlep', 'fj1mass', 'fj2mass', 'fj1pt', 'fj2pt', 'nel', 'nmu', 'nj',\n",
      "       'nfj', 'nfj_w', 'label', 'weight_column', 'sample'],\n",
      "      dtype='object')\n",
      "features ['bveto', 'mt2t', 'nfj_w', 'hthad_fj', 'mt', 'met', 'htlep']\n",
      "::: bveto\n",
      "df_signal.shape (16110, 3)\n",
      "ttbar dileptonic 140040 124460.55\n",
      "drell-yan 110904 88263.15685495628\n",
      "ww+2j 24387 24648.67392354403\n",
      "wz+2j 9324 8189.761994710995\n",
      "ttbarZ 3659 2479.7042999999994\n",
      "ttbarW 1308 641.0246399999999\n",
      "wwz 879 219.50387999999998\n",
      "www 758 256.2797999999999\n",
      "wzz 359 28.91745\n",
      "zz+1j 219 163.51410872097975\n",
      "zzz 166 4.341137142857143\n",
      "BACK [1111458.95616698       0.               0.               0.\n",
      "       0.               0.               0.               0.\n",
      "       0.               0.               0.               0.\n",
      "       0.               0.               0.               0.\n",
      "       0.               0.               0.               0.\n",
      "       0.               0.               0.               0.\n",
      "       0.               0.               0.               0.\n",
      "       0.         1451339.6618951 ]\n"
     ]
    },
    {
     "ename": "NameError",
     "evalue": "name 'os' is not defined",
     "output_type": "error",
     "traceback": [
      "\u001b[0;31m---------------------------------------------------------------------------\u001b[0m",
      "\u001b[0;31mNameError\u001b[0m                                 Traceback (most recent call last)",
      "\u001b[0;32m<ipython-input-16-03bf813345d5>\u001b[0m in \u001b[0;36m<module>\u001b[0;34m\u001b[0m\n\u001b[1;32m     34\u001b[0m \u001b[0;34m\u001b[0m\u001b[0m\n\u001b[1;32m     35\u001b[0m         get_histogram( feature, hmin, hmax, stack_list, weights_list, names,\n\u001b[0;32m---> 36\u001b[0;31m                       df_signal[feature].values,signal_weights, signal, dens=False)\n\u001b[0m",
      "\u001b[0;32m<ipython-input-14-811ddc76a195>\u001b[0m in \u001b[0;36mget_histogram\u001b[0;34m(feature_name, h_min, h_max, stack_list, weights_list, names, signal_values, signal_weights, signal_name, dens)\u001b[0m\n\u001b[1;32m     42\u001b[0m         \u001b[0mplotname\u001b[0m \u001b[0;34m=\u001b[0m \u001b[0;34m\"../histograms/density_true/\"\u001b[0m \u001b[0;34m+\u001b[0m \u001b[0msignal_name\u001b[0m\u001b[0;34m+\u001b[0m \u001b[0;34m\"_\"\u001b[0m \u001b[0;34m+\u001b[0m\u001b[0mfeature_name\u001b[0m \u001b[0;34m+\u001b[0m\u001b[0;34m\".png\"\u001b[0m\u001b[0;34m\u001b[0m\u001b[0;34m\u001b[0m\u001b[0m\n\u001b[1;32m     43\u001b[0m     \u001b[0;32melse\u001b[0m\u001b[0;34m:\u001b[0m\u001b[0;34m\u001b[0m\u001b[0;34m\u001b[0m\u001b[0m\n\u001b[0;32m---> 44\u001b[0;31m         \u001b[0;32mif\u001b[0m \u001b[0;32mnot\u001b[0m \u001b[0mos\u001b[0m\u001b[0;34m.\u001b[0m\u001b[0mpath\u001b[0m\u001b[0;34m.\u001b[0m\u001b[0mexists\u001b[0m\u001b[0;34m(\u001b[0m\u001b[0;34m'../histograms/density_false/'\u001b[0m\u001b[0;34m)\u001b[0m\u001b[0;34m:\u001b[0m\u001b[0;34m\u001b[0m\u001b[0;34m\u001b[0m\u001b[0m\n\u001b[0m\u001b[1;32m     45\u001b[0m             \u001b[0mos\u001b[0m\u001b[0;34m.\u001b[0m\u001b[0mmakedirs\u001b[0m\u001b[0;34m(\u001b[0m\u001b[0;34m'../histograms/density_false/'\u001b[0m\u001b[0;34m)\u001b[0m\u001b[0;34m\u001b[0m\u001b[0;34m\u001b[0m\u001b[0m\n\u001b[1;32m     46\u001b[0m         \u001b[0mplotname\u001b[0m \u001b[0;34m=\u001b[0m \u001b[0;34m\"../histograms/density_false/\"\u001b[0m \u001b[0;34m+\u001b[0m \u001b[0msignal_name\u001b[0m\u001b[0;34m+\u001b[0m \u001b[0;34m\"_\"\u001b[0m \u001b[0;34m+\u001b[0m\u001b[0mfeature_name\u001b[0m \u001b[0;34m+\u001b[0m\u001b[0;34m\".png\"\u001b[0m\u001b[0;34m\u001b[0m\u001b[0;34m\u001b[0m\u001b[0m\n",
      "\u001b[0;31mNameError\u001b[0m: name 'os' is not defined"
     ]
    },
    {
     "data": {
      "image/png": "[encoded data removed]",
      "text/plain": [
       "<Figure size 720x720 with 1 Axes>"
      ]
     },
     "metadata": {
      "needs_background": "light"
     },
     "output_type": "display_data"
    }
   ],
   "source": [
    "source_path = \"../processed_data/\"\n",
    "\n",
    "for file in glob(source_path + \"all_signal*\"):\n",
    "    signal_file = file.split(\"/\")[-1] \n",
    "    signal = signal_file.split(\"_\")[2] + \"_\" + signal_file.split(\"_\")[3]  #   \"m1000_np\"\n",
    "    print(signal_file, signal)\n",
    "    \n",
    "    df0 = fromcsv2df(source_path + signal_file)\n",
    "    print(df0.columns)\n",
    "    df = df0[['bveto', 'mt2t','nfj_w','hthad_fj','mt', 'met', 'htlep','label','weight_column', \"sample\" ]]\n",
    "    # data and label matrices\n",
    "\n",
    "\n",
    "    features = list(df.columns)\n",
    "\n",
    "    features.remove('label')\n",
    "    features.remove('weight_column')\n",
    "    features.remove(\"sample\")\n",
    "    print(\"features\", features)\n",
    "    \n",
    "    for feature in features:\n",
    "        print(\":::\",feature)\n",
    "        df0 = df[['sample',feature,\"weight_column\"]] # taking only three columns\n",
    "        df_signal = df0[df0[\"sample\"]==signal] # taking only signal\n",
    "        signal_weights = df_signal[\"weight_column\"].values\n",
    "        df0 = df0[df0[\"sample\"]!=signal] #taking only background\n",
    "        hmin=df0[feature].values.min()\n",
    "        hmax=df0[feature].values.max()\n",
    "\n",
    "        print(\"df_signal.shape\", df_signal.shape)\n",
    "        d = df0[\"sample\"].value_counts()\n",
    "\n",
    "        stack_list, weights_list, names = get_stacks(d,feature)\n",
    "\n",
    "        get_histogram( feature, hmin, hmax, stack_list, weights_list, names,\n",
    "                      df_signal[feature].values,signal_weights, signal, dens=False)"
   ]
  },
  {
   "cell_type": "code",
   "execution_count": null,
   "metadata": {},
   "outputs": [],
   "source": []
  }
 ],
 "metadata": {
  "kernelspec": {
   "display_name": "Python 3",
   "language": "python",
   "name": "python3"
  },
  "language_info": {
   "codemirror_mode": {
    "name": "ipython",
    "version": 3
   },
   "file_extension": ".py",
   "mimetype": "text/x-python",
   "name": "python",
   "nbconvert_exporter": "python",
   "pygments_lexer": "ipython3",
   "version": "3.7.8"
  }
 },
 "nbformat": 4,
 "nbformat_minor": 4
}
